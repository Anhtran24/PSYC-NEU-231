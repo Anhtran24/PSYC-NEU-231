{
 "cells": [
  {
   "cell_type": "markdown",
   "metadata": {},
   "source": [
    "# Linear algebra with NumPY\n",
    "[SciPy Reference page](https://docs.scipy.org/doc/numpy-1.14.0/reference/routines.linalg.html#matrix-and-vector-products)"
   ]
  },
  {
   "cell_type": "markdown",
   "metadata": {},
   "source": [
    "<div class=\"alert alert-info\">\n",
    "The ability to do matrix operations without looping is a super important feature of numpy (and matlab). If you're not familiar with matrix operations it can take some getting used to but mastering this stuff will make your code much faster and readable\n",
    "</div>"
   ]
  },
  {
   "cell_type": "code",
   "execution_count": 2,
   "metadata": {},
   "outputs": [],
   "source": [
    "# import numpy\n",
    "import numpy as np"
   ]
  },
  {
   "cell_type": "markdown",
   "metadata": {},
   "source": [
    "### first lets write out some simple operations using loops"
   ]
  },
  {
   "cell_type": "code",
   "execution_count": 21,
   "metadata": {},
   "outputs": [
    {
     "name": "stdout",
     "output_type": "stream",
     "text": [
      "x = [0 1 2 3 4] \n",
      "y = [ 0.   2.5  5.   7.5 10. ]\n",
      "Element-wise product of x and y is: [ 0.   2.5 10.  22.5 40. ]\n"
     ]
    }
   ],
   "source": [
    "# make two vectors\n",
    "x = np.arange(5)        # note that this is a vector of ints by default\n",
    "y = np.linspace(0,10,5) # and this is a vector of floats\n",
    "\n",
    "print('x =', x,'\\ny =', y)\n",
    "\n",
    "# then do element by element multiplication\n",
    "z = np.zeros((x.size))\n",
    "for i in range(x.size):\n",
    "    z[i] = y[i]*x[i]\n",
    "\n",
    "print('Element-wise product of x and y is:', z)  "
   ]
  },
  {
   "cell_type": "markdown",
   "metadata": {},
   "source": [
    "<div class=\"alert alert-info\">\n",
    "BUT! much much easier and faster to do the element wise operation all in one line making use of numpy's matrix capabilities\n",
    "</div>"
   ]
  },
  {
   "cell_type": "code",
   "execution_count": 26,
   "metadata": {},
   "outputs": [
    {
     "name": "stdout",
     "output_type": "stream",
     "text": [
      "[ 0.   2.5 10.  22.5 40. ]\n",
      "[1.00000000e+00 1.00000000e+00 3.20000000e+01 3.78799512e+03\n",
      " 1.04857600e+06]\n",
      "[0.         0.28571429 0.33333333 0.35294118 0.36363636]\n"
     ]
    }
   ],
   "source": [
    "print(x*y)  # elementwise multiply\n",
    "print(x**y) # elementwise x^y\n",
    "print(x/y)  # elementwise division...why does this throw a runtime warning?"
   ]
  },
  {
   "cell_type": "markdown",
   "metadata": {},
   "source": [
    "### do a speed test!"
   ]
  },
  {
   "cell_type": "code",
   "execution_count": 31,
   "metadata": {},
   "outputs": [
    {
     "name": "stdout",
     "output_type": "stream",
     "text": [
      "36.2 µs ± 1.14 µs per loop (mean ± std. dev. of 7 runs, 10000 loops each)\n"
     ]
    }
   ],
   "source": [
    "# first do this using a 'for' loop\n",
    "\n",
    "num_elements = 100\n",
    "x = np.arange(num_elements) \n",
    "y = np.arange(num_elements)\n",
    "\n",
    "z = np.zeros((num_elements))\n",
    "\n",
    "# loop and element-wise multiply\n",
    "%timeit for i in range(num_elements): z[i] = x[i] * y[i]\n"
   ]
  },
  {
   "cell_type": "code",
   "execution_count": 32,
   "metadata": {},
   "outputs": [
    {
     "name": "stdout",
     "output_type": "stream",
     "text": [
      "496 ns ± 4.9 ns per loop (mean ± std. dev. of 7 runs, 1000000 loops each)\n"
     ]
    }
   ],
   "source": [
    "# then the same thing using matrix operations\n",
    "%timeit z = x*y"
   ]
  },
  {
   "cell_type": "code",
   "execution_count": null,
   "metadata": {},
   "outputs": [],
   "source": [
    "print(x.dot(x.T)) # use dot for matrix multiplication (not elementwise) - .T is transpose and this is sum-of-squares\n",
    "print(x.dot(y.T)) # sum of x*y for all x,y"
   ]
  },
  {
   "cell_type": "code",
   "execution_count": null,
   "metadata": {},
   "outputs": [],
   "source": [
    "# matrix multiply\n",
    "X = np.arange(20).reshape(5,4)\n",
    "Y = np.linspace(21,40,20).reshape(5,4)\n",
    "X.dot(Y.T)     # transpose so that columns == rows\n",
    "#np.dot(X,Y.T) # same thing..."
   ]
  }
 ],
 "metadata": {
  "kernelspec": {
   "display_name": "Python 3",
   "language": "python",
   "name": "python3"
  },
  "language_info": {
   "codemirror_mode": {
    "name": "ipython",
    "version": 3
   },
   "file_extension": ".py",
   "mimetype": "text/x-python",
   "name": "python",
   "nbconvert_exporter": "python",
   "pygments_lexer": "ipython3",
   "version": "3.6.6"
  }
 },
 "nbformat": 4,
 "nbformat_minor": 2
}

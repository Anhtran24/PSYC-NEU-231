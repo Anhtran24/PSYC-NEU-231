{
 "cells": [
  {
   "cell_type": "markdown",
   "metadata": {},
   "source": [
    "# getting started guide (random notes for the moment...will clean up later)\n",
    "-[the official tutorial](https://docs.python.org/3/)\n",
    "\n",
    "-[nice intro to basics of language](https://www.w3schools.com/python/default.asp)"
   ]
  },
  {
   "cell_type": "markdown",
   "metadata": {},
   "source": [
    "<div class=\"alert alert-info\">\n",
    "if you see this color in a markdown header, then its friendly information :)\n",
    "</div>"
   ]
  },
  {
   "cell_type": "markdown",
   "metadata": {},
   "source": [
    "<div class=\"alert alert-success\">\n",
    "if you see this color in a markdown header, then it means something good happened! success!\n",
    "</div>"
   ]
  },
  {
   "cell_type": "markdown",
   "metadata": {},
   "source": [
    "<div class=\"alert alert-warning\">\n",
    "if you see this color in a markdown header, then pay attention! its a warning!\n",
    "</div>"
   ]
  },
  {
   "cell_type": "markdown",
   "metadata": {},
   "source": [
    "<div class=\"alert alert-danger\">\n",
    "if you see this color in a markdown header, then run screaming from the classroom...something dangerous is happening!\n",
    "</div>"
   ]
  },
  {
   "cell_type": "markdown",
   "metadata": {},
   "source": [
    "<div class=\"alert alert-info\">\n",
    "Note that Python is a strongly typed language - some languages will **implicitly** (automatically) recast variable types (e.g. basic or java). Python allows **explcit** recasting or reassignment to a variable of a different type, but will not do so automatically except in obvious cases like upcasting\n",
    "</div>"
   ]
  },
  {
   "cell_type": "code",
   "execution_count": null,
   "metadata": {},
   "outputs": [],
   "source": [
    "# declare x as an int\n",
    "x = 2\n",
    "print('value of x: ', x, 'type of x: ', type(x))\n",
    "\n",
    "# now declare as a string, this is ok...\n",
    "x = '2'\n",
    "print('value of x: ', x, 'type of x: ', type(x))\n",
    "\n",
    "# but you can't do this because you can't combine int and str data types\n",
    "y = 2\n",
    "x = '2'\n",
    "\n",
    "print('type of x: ', type(x), 'type of y: ', type(y))\n",
    "\n",
    "# so this will throw an error, whereas in some other languages it might \n",
    "# either return 4 (e.g. VB if recast to ints) or maybe even 22 (java if recast to strs)\n",
    "x+y  "
   ]
  },
  {
   "cell_type": "markdown",
   "metadata": {},
   "source": [
    "<div class=\"alert alert-warning\">\n",
    "variable assignments usually lead to *references* in Python, not *copies* as in many languages.\n",
    "This is SUPER important to understand!\n",
    "</div>"
   ]
  },
  {
   "cell_type": "code",
   "execution_count": 1,
   "metadata": {},
   "outputs": [
    {
     "name": "stdout",
     "output_type": "stream",
     "text": [
      "[1, 3]\n"
     ]
    }
   ],
   "source": [
    "# assign a variable - a short array in this case\n",
    "x = [1, 5]\n",
    "\n",
    "# then make another variable, y, and assign it to x\n",
    "y = x\n",
    "\n",
    "# in most languages this would make a copy of what is in x and then assign that to y\n",
    "# i.e. you would have two separate variables that contain independent copies of the data\n",
    "# but in Python, by default, y is just a reference to x and in turn they reference the same\n",
    "# data in memory!\n",
    "\n",
    "# change the second element in y and see what happens to x!\n",
    "y[1] = 3\n",
    "\n",
    "print(x)\n",
    "\n",
    "# we'll talk about 'deep copies' later when we get to NumPy, just keep this in mind for now"
   ]
  }
 ],
 "metadata": {
  "kernelspec": {
   "display_name": "Python 3",
   "language": "python",
   "name": "python3"
  },
  "language_info": {
   "codemirror_mode": {
    "name": "ipython",
    "version": 3
   },
   "file_extension": ".py",
   "mimetype": "text/x-python",
   "name": "python",
   "nbconvert_exporter": "python",
   "pygments_lexer": "ipython3",
   "version": "3.6.6"
  }
 },
 "nbformat": 4,
 "nbformat_minor": 2
}

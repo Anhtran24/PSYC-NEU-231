{
 "cells": [
  {
   "cell_type": "markdown",
   "metadata": {},
   "source": [
    "# Linear algebra with NumPY\n",
    "[SciPy Reference page](https://docs.scipy.org/doc/numpy-1.14.0/reference/routines.linalg.html#matrix-and-vector-products)"
   ]
  },
  {
   "cell_type": "code",
   "execution_count": null,
   "metadata": {},
   "outputs": [],
   "source": [
    "# import numpy\n",
    "import numpy as np"
   ]
  },
  {
   "cell_type": "code",
   "execution_count": null,
   "metadata": {},
   "outputs": [],
   "source": [
    "x = np.arange(5)\n",
    "y = np.linspace(0,4,5)\n",
    "\n",
    "print(x*y)  # elementwise multiply\n",
    "print(x**y) # elementwise x^y\n",
    "print(x/y)  # elementwise division...why does this throw a runtime warning?"
   ]
  },
  {
   "cell_type": "code",
   "execution_count": null,
   "metadata": {},
   "outputs": [],
   "source": [
    "print(x.dot(x.T)) # use dot for matrix multiplication (not elementwise) - .T is transpose and this is sum-of-squares\n",
    "print(x.dot(y.T)) # sum of x*y for all x,y"
   ]
  },
  {
   "cell_type": "code",
   "execution_count": null,
   "metadata": {},
   "outputs": [],
   "source": [
    "# matrix multiply\n",
    "X = np.arange(20).reshape(5,4)\n",
    "Y = np.linspace(21,40,20).reshape(5,4)\n",
    "X.dot(Y.T)     # transpose so that columns == rows\n",
    "#np.dot(X,Y.T) # same thing...\n",
    "\n"
   ]
  }
 ],
 "metadata": {
  "kernelspec": {
   "display_name": "Python 3",
   "language": "python",
   "name": "python3"
  },
  "language_info": {
   "codemirror_mode": {
    "name": "ipython",
    "version": 3
   },
   "file_extension": ".py",
   "mimetype": "text/x-python",
   "name": "python",
   "nbconvert_exporter": "python",
   "pygments_lexer": "ipython3",
   "version": "3.6.6"
  }
 },
 "nbformat": 4,
 "nbformat_minor": 2
}
